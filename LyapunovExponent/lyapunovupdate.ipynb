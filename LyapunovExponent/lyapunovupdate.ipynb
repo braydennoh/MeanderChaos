{
 "cells": [
  {
   "cell_type": "code",
   "execution_count": null,
   "metadata": {},
   "outputs": [],
   "source": [
    "import matplotlib.pyplot as plt\n",
    "import glob\n",
    "import numpy as np\n",
    "import re\n",
    "import cmcrameri.cm as cmc\n",
    "import matplotlib.colors as mcolors\n",
    "\n",
    "# Create a shifted version of the Oslo colormap by sampling from 0 to 0.90\n",
    "cmap_original = cmc.oslo\n",
    "shifted_colors = cmap_original(np.linspace(0, 0.90, 256))\n",
    "shifted_oslo = mcolors.LinearSegmentedColormap.from_list(\"shifted_oslo\", shifted_colors)\n",
    "\n",
    "# Get all saved files in the directory\n",
    "file_paths = sorted(glob.glob(\"/Users/braydennoh/Documents/phasespace/2.18/shift/t_d_valid_freq_*.txt\"))\n",
    "\n",
    "# Define normalization with LogNorm for correct log scaling\n",
    "norm = mcolors.LogNorm(vmin=1e-20, vmax=1e-1)\n",
    "\n",
    "# Create figure and axis\n",
    "fig, ax = plt.subplots(figsize=(4, 3))\n",
    "\n",
    "# Loop through each file, extract the perturbation value, and plot\n",
    "for file_path in file_paths:\n",
    "    match = re.search(r\"t_d_valid_freq_([\\d\\.Ee+-]+)\\.txt\", file_path)\n",
    "    if match:\n",
    "        perturbation_value = float(match.group(1))\n",
    "        data = np.loadtxt(file_path)\n",
    "\n",
    "        # If data is 1D and has 2 elements, reshape it\n",
    "        if data.ndim == 1 and data.size == 2:\n",
    "            data = data.reshape(1, 2)\n",
    "        if data.ndim < 2 or data.shape[1] < 2:\n",
    "            continue\n",
    "\n",
    "        color = shifted_oslo(norm(perturbation_value))\n",
    "        ax.plot(data[:, 0], np.log(data[:, 1]), color=color, lw=1, label=f\"{perturbation_value:.1e}\")\n",
    "\n",
    "# Create a manual colorbar with logarithmically spaced ticks\n",
    "cbar_ticks = [1e-20, 1e-15, 1e-10, 1e-5, 1e-1]\n",
    "sm = plt.cm.ScalarMappable(cmap=shifted_oslo, norm=norm)\n",
    "sm.set_array([])\n",
    "cbar = fig.colorbar(sm, ax=ax, ticks=cbar_ticks)\n",
    "cbar.set_label(\"Perturbation Magnitude\")\n",
    "cbar.ax.set_yticklabels([f\"{tick:.0e}\" for tick in cbar_ticks])  # Format ticks in scientific notation\n",
    "\n",
    "ax.set_xlabel('Time')\n",
    "ax.set_ylabel('log(Separation)')\n",
    "\n",
    "ax.set_xlim([0, 1000])\n",
    "\n",
    "plt.tight_layout()\n",
    "plt.show()\n"
   ]
  }
 ],
 "metadata": {
  "kernelspec": {
   "display_name": "base",
   "language": "python",
   "name": "python3"
  },
  "language_info": {
   "name": "python",
   "version": "3.10.9"
  }
 },
 "nbformat": 4,
 "nbformat_minor": 2
}
